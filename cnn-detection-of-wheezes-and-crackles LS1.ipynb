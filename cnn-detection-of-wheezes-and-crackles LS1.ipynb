{
 "cells": [
  {
   "cell_type": "markdown",
   "metadata": {
    "_uuid": "cf450d47a8c6c1d2d14775c9a0bcdf846d1ea48e"
   },
   "source": [
    "# Overview\n",
    "Implementation of a convolutional neural network used to identify wheezes and crackles in an audio file which is fed Mel-Spectrograms as inputs. During processing, audio clips are copied to 5 second long buffers, and are split into multiple segments if necessary, with zero padding added to fill the rest of the buffer. During training, Mel-Spectrograms are transposed and wrapped around the time-axis to help allow the network to learn to identify features occurring at arbitrary times within the recording. Data augmentation was employed in the form of audio stretching (speeding up and down) as well as Vocal Tract Length Perturbation, especially for the scarcer '*wheeze*' and '*wheeze and crackles*' classes. A one hot data labelling scheme was chosen as earlier attempts at using a multi-label scheme using a Sigmoid output layer resulted in poor training results (which in hindsight may have been caused by an excessively high learning rate). Currently, both the '*wheeze*' and '*wheeze and crackles*' classes pose the greatest challenge in the area of classification, and frequently produce false negatives, as indicated by the poor recall scores.  Overall validation accuracy currently stands at roughly 70%."
   ]
  },
  {
   "cell_type": "code",
   "execution_count": 1,
   "metadata": {
    "_cell_guid": "b1076dfc-b9ad-4769-8c92-a6c4dae69d19",
    "_uuid": "8f2839f25d086af736a60e9eeb907d3b93b6e0e5"
   },
   "outputs": [],
   "source": [
    "import wave\n",
    "import pandas as pd\n",
    "import numpy as np\n",
    "import matplotlib.pyplot as plt\n",
    "import os\n",
    "%matplotlib inline"
   ]
  },
  {
   "cell_type": "code",
   "execution_count": 2,
   "metadata": {
    "_uuid": "ba6c451b8e6ba07de187ee7c79f0a6e9319a594e"
   },
   "outputs": [
    {
     "data": {
      "text/plain": [
       "['demographic_info.txt', 'Respiratory_Sound_Database']"
      ]
     },
     "execution_count": 2,
     "metadata": {},
     "output_type": "execute_result"
    }
   ],
   "source": [
    "#os.listdir('../input/respiratory_sound_database')\n",
    "data_dir='C:\\\\Users/n9972552/Downloads/respiratory-sound-database/'\n",
    "os.listdir(data_dir)"
   ]
  },
  {
   "cell_type": "code",
   "execution_count": 8,
   "metadata": {
    "_cell_guid": "79c7e3d0-c299-4dcb-8224-4455121ee9b0",
    "_uuid": "d629ff2d2480ee46fbb7e2d37f6b5fab8052498a"
   },
   "outputs": [
    {
     "data": {
      "text/html": [
       "<div>\n",
       "<style scoped>\n",
       "    .dataframe tbody tr th:only-of-type {\n",
       "        vertical-align: middle;\n",
       "    }\n",
       "\n",
       "    .dataframe tbody tr th {\n",
       "        vertical-align: top;\n",
       "    }\n",
       "\n",
       "    .dataframe thead th {\n",
       "        text-align: right;\n",
       "    }\n",
       "</style>\n",
       "<table border=\"1\" class=\"dataframe\">\n",
       "  <thead>\n",
       "    <tr style=\"text-align: right;\">\n",
       "      <th></th>\n",
       "      <th>Patient number</th>\n",
       "      <th>Diagnosis</th>\n",
       "    </tr>\n",
       "  </thead>\n",
       "  <tbody>\n",
       "    <tr>\n",
       "      <td>0</td>\n",
       "      <td>101</td>\n",
       "      <td>URTI</td>\n",
       "    </tr>\n",
       "    <tr>\n",
       "      <td>1</td>\n",
       "      <td>102</td>\n",
       "      <td>Healthy</td>\n",
       "    </tr>\n",
       "    <tr>\n",
       "      <td>2</td>\n",
       "      <td>103</td>\n",
       "      <td>Asthma</td>\n",
       "    </tr>\n",
       "    <tr>\n",
       "      <td>3</td>\n",
       "      <td>104</td>\n",
       "      <td>COPD</td>\n",
       "    </tr>\n",
       "    <tr>\n",
       "      <td>4</td>\n",
       "      <td>105</td>\n",
       "      <td>URTI</td>\n",
       "    </tr>\n",
       "    <tr>\n",
       "      <td>...</td>\n",
       "      <td>...</td>\n",
       "      <td>...</td>\n",
       "    </tr>\n",
       "    <tr>\n",
       "      <td>121</td>\n",
       "      <td>222</td>\n",
       "      <td>COPD</td>\n",
       "    </tr>\n",
       "    <tr>\n",
       "      <td>122</td>\n",
       "      <td>223</td>\n",
       "      <td>COPD</td>\n",
       "    </tr>\n",
       "    <tr>\n",
       "      <td>123</td>\n",
       "      <td>224</td>\n",
       "      <td>Healthy</td>\n",
       "    </tr>\n",
       "    <tr>\n",
       "      <td>124</td>\n",
       "      <td>225</td>\n",
       "      <td>Healthy</td>\n",
       "    </tr>\n",
       "    <tr>\n",
       "      <td>125</td>\n",
       "      <td>226</td>\n",
       "      <td>Pneumonia</td>\n",
       "    </tr>\n",
       "  </tbody>\n",
       "</table>\n",
       "<p>126 rows × 2 columns</p>\n",
       "</div>"
      ],
      "text/plain": [
       "     Patient number  Diagnosis\n",
       "0               101       URTI\n",
       "1               102    Healthy\n",
       "2               103     Asthma\n",
       "3               104       COPD\n",
       "4               105       URTI\n",
       "..              ...        ...\n",
       "121             222       COPD\n",
       "122             223       COPD\n",
       "123             224    Healthy\n",
       "124             225    Healthy\n",
       "125             226  Pneumonia\n",
       "\n",
       "[126 rows x 2 columns]"
      ]
     },
     "execution_count": 8,
     "metadata": {},
     "output_type": "execute_result"
    }
   ],
   "source": [
    "df_no_diagnosis = pd.read_csv(data_dir + 'demographic_info.txt', names = \n",
    "                 ['Patient number', 'Age', 'Sex' , 'Adult BMI (kg/m2)', 'Child Weight (kg)' , 'Child Height (cm)'],\n",
    "                 delimiter = ' ')\n",
    "\n",
    "diagnosis = pd.read_csv(data_dir + 'Respiratory_Sound_Database/patient_diagnosis.csv', names = ['Patient number', 'Diagnosis'])\n",
    "#df_no_diagnosis\n",
    "#diagnosis\n"
   ]
  },
  {
   "cell_type": "code",
   "execution_count": 13,
   "metadata": {
    "_uuid": "912a707b2fcf4ab2711b19bfa4341c5b58d9dcc2"
   },
   "outputs": [
    {
     "data": {
      "text/plain": [
       "COPD              64\n",
       "Healthy           26\n",
       "URTI              14\n",
       "Bronchiectasis     7\n",
       "Bronchiolitis      6\n",
       "Pneumonia          6\n",
       "LRTI               2\n",
       "Asthma             1\n",
       "Name: Diagnosis, dtype: int64"
      ]
     },
     "execution_count": 13,
     "metadata": {},
     "output_type": "execute_result"
    }
   ],
   "source": [
    "df =  df_no_diagnosis.join(diagnosis.set_index('Patient number'), on = 'Patient number', how = 'left')\n",
    "df['Diagnosis'].value_counts()\n",
    "#df['Age'].value_counts()\n",
    "#df"
   ]
  },
  {
   "cell_type": "code",
   "execution_count": 16,
   "metadata": {
    "_uuid": "3e1d7ddaac465d3af5b8594b86ea6033e1048b08"
   },
   "outputs": [],
   "source": [
    "root = data_dir + 'Respiratory_Sound_Database/audio_and_txt_files/'\n",
    "filenames = [s.split('.')[0] for s in os.listdir(path = root) if '.txt' in s]\n",
    "#filenames"
   ]
  },
  {
   "cell_type": "code",
   "execution_count": 17,
   "metadata": {
    "_uuid": "06d7a65e5eb860b69d08e3978fc89bd5a97056e7"
   },
   "outputs": [],
   "source": [
    "def Extract_Annotation_Data(file_name, root):\n",
    "    tokens = file_name.split('_')\n",
    "    recording_info = pd.DataFrame(data = [tokens], columns = ['Patient number', 'Recording index', 'Chest location','Acquisition mode','Recording equipment'])\n",
    "    recording_annotations = pd.read_csv(os.path.join(root, file_name + '.txt'), names = ['Start', 'End', 'Crackles', 'Wheezes'], delimiter= '\\t')\n",
    "    return (recording_info, recording_annotations)"
   ]
  },
  {
   "cell_type": "code",
   "execution_count": 18,
   "metadata": {
    "_uuid": "91a9bc4000bb65013bcc035a0b9d9564651ebd33"
   },
   "outputs": [
    {
     "data": {
      "text/html": [
       "<div>\n",
       "<style scoped>\n",
       "    .dataframe tbody tr th:only-of-type {\n",
       "        vertical-align: middle;\n",
       "    }\n",
       "\n",
       "    .dataframe tbody tr th {\n",
       "        vertical-align: top;\n",
       "    }\n",
       "\n",
       "    .dataframe thead th {\n",
       "        text-align: right;\n",
       "    }\n",
       "</style>\n",
       "<table border=\"1\" class=\"dataframe\">\n",
       "  <thead>\n",
       "    <tr style=\"text-align: right;\">\n",
       "      <th></th>\n",
       "      <th>Patient number</th>\n",
       "      <th>Recording index</th>\n",
       "      <th>Chest location</th>\n",
       "      <th>Acquisition mode</th>\n",
       "      <th>Recording equipment</th>\n",
       "    </tr>\n",
       "  </thead>\n",
       "  <tbody>\n",
       "    <tr>\n",
       "      <td>0</td>\n",
       "      <td>101</td>\n",
       "      <td>1b1</td>\n",
       "      <td>Al</td>\n",
       "      <td>sc</td>\n",
       "      <td>Meditron</td>\n",
       "    </tr>\n",
       "    <tr>\n",
       "      <td>0</td>\n",
       "      <td>101</td>\n",
       "      <td>1b1</td>\n",
       "      <td>Pr</td>\n",
       "      <td>sc</td>\n",
       "      <td>Meditron</td>\n",
       "    </tr>\n",
       "    <tr>\n",
       "      <td>0</td>\n",
       "      <td>102</td>\n",
       "      <td>1b1</td>\n",
       "      <td>Ar</td>\n",
       "      <td>sc</td>\n",
       "      <td>Meditron</td>\n",
       "    </tr>\n",
       "    <tr>\n",
       "      <td>0</td>\n",
       "      <td>103</td>\n",
       "      <td>2b2</td>\n",
       "      <td>Ar</td>\n",
       "      <td>mc</td>\n",
       "      <td>LittC2SE</td>\n",
       "    </tr>\n",
       "    <tr>\n",
       "      <td>0</td>\n",
       "      <td>104</td>\n",
       "      <td>1b1</td>\n",
       "      <td>Al</td>\n",
       "      <td>sc</td>\n",
       "      <td>Litt3200</td>\n",
       "    </tr>\n",
       "  </tbody>\n",
       "</table>\n",
       "</div>"
      ],
      "text/plain": [
       "  Patient number Recording index Chest location Acquisition mode  \\\n",
       "0            101             1b1             Al               sc   \n",
       "0            101             1b1             Pr               sc   \n",
       "0            102             1b1             Ar               sc   \n",
       "0            103             2b2             Ar               mc   \n",
       "0            104             1b1             Al               sc   \n",
       "\n",
       "  Recording equipment  \n",
       "0            Meditron  \n",
       "0            Meditron  \n",
       "0            Meditron  \n",
       "0            LittC2SE  \n",
       "0            Litt3200  "
      ]
     },
     "execution_count": 18,
     "metadata": {},
     "output_type": "execute_result"
    }
   ],
   "source": [
    "i_list = []\n",
    "rec_annotations = []\n",
    "rec_annotations_dict = {}\n",
    "for s in filenames:\n",
    "    (i,a) = Extract_Annotation_Data(s, root)\n",
    "    i_list.append(i)\n",
    "    rec_annotations.append(a)\n",
    "    rec_annotations_dict[s] = a\n",
    "recording_info = pd.concat(i_list, axis = 0)\n",
    "recording_info.head()"
   ]
  },
  {
   "cell_type": "code",
   "execution_count": 19,
   "metadata": {
    "_uuid": "101df59261909482911400c0869f90cd300d36f3"
   },
   "outputs": [],
   "source": [
    "no_label_list = []\n",
    "crack_list = []\n",
    "wheeze_list = []\n",
    "both_sym_list = []\n",
    "filename_list = []\n",
    "for f in filenames:\n",
    "    d = rec_annotations_dict[f]\n",
    "    no_labels = len(d[(d['Crackles'] == 0) & (d['Wheezes'] == 0)].index)\n",
    "    n_crackles = len(d[(d['Crackles'] == 1) & (d['Wheezes'] == 0)].index)\n",
    "    n_wheezes = len(d[(d['Crackles'] == 0) & (d['Wheezes'] == 1)].index)\n",
    "    both_sym = len(d[(d['Crackles'] == 1) & (d['Wheezes'] == 1)].index)\n",
    "    no_label_list.append(no_labels)\n",
    "    crack_list.append(n_crackles)\n",
    "    wheeze_list.append(n_wheezes)\n",
    "    both_sym_list.append(both_sym)\n",
    "    filename_list.append(f)"
   ]
  },
  {
   "cell_type": "code",
   "execution_count": 20,
   "metadata": {
    "_uuid": "92e261fa3987a54f8ce52ff93fbcf2289ac20faf"
   },
   "outputs": [],
   "source": [
    "file_label_df = pd.DataFrame(data = {'filename':filename_list, 'no label':no_label_list, 'crackles only':crack_list, 'wheezes only':wheeze_list, 'crackles and wheezees':both_sym_list})"
   ]
  },
  {
   "cell_type": "markdown",
   "metadata": {
    "_uuid": "c91a8fed39a97efa50dfb4b4e834008efe9e713f"
   },
   "source": [
    "# Distribution of data classes"
   ]
  },
  {
   "cell_type": "code",
   "execution_count": 21,
   "metadata": {
    "_uuid": "26e1727c204af6104d584c3088daa638e8ed6227",
    "scrolled": true
   },
   "outputs": [
    {
     "data": {
      "text/plain": [
       "filename                 101_1b1_Al_sc_Meditron101_1b1_Pr_sc_Meditron10...\n",
       "no label                                                              3642\n",
       "crackles only                                                         1864\n",
       "wheezes only                                                           886\n",
       "crackles and wheezees                                                  506\n",
       "dtype: object"
      ]
     },
     "execution_count": 21,
     "metadata": {},
     "output_type": "execute_result"
    }
   ],
   "source": [
    "w_labels = file_label_df[(file_label_df['crackles only'] != 0) | (file_label_df['wheezes only'] != 0) | (file_label_df['crackles and wheezees'] != 0)]\n",
    "file_label_df.sum()"
   ]
  },
  {
   "cell_type": "markdown",
   "metadata": {
    "_uuid": "4288dfa4a454a3626499348b48c490ae9523b4ec"
   },
   "source": [
    "# Utility functions for reading .wav files (especially pesky 24bit .wav)"
   ]
  },
  {
   "cell_type": "code",
   "execution_count": 22,
   "metadata": {
    "_uuid": "0595b1640a188ca09640694b48a876ce6df41944"
   },
   "outputs": [],
   "source": [
    "import wave\n",
    "import math\n",
    "import scipy.io.wavfile as wf\n",
    "#wave file reader\n",
    "\n",
    "#Will resample all files to the target sample rate and produce a 32bit float array\n",
    "def read_wav_file(str_filename, target_rate):\n",
    "    wav = wave.open(str_filename, mode = 'r')\n",
    "    (sample_rate, data) = extract2FloatArr(wav,str_filename)\n",
    "    \n",
    "    if (sample_rate != target_rate):\n",
    "        ( _ , data) = resample(sample_rate, data, target_rate)\n",
    "        \n",
    "    wav.close()\n",
    "    return (target_rate, data.astype(np.float32))\n",
    "\n",
    "def resample(current_rate, data, target_rate):\n",
    "    x_original = np.linspace(0,100,len(data))\n",
    "    x_resampled = np.linspace(0,100, int(len(data) * (target_rate / current_rate)))\n",
    "    resampled = np.interp(x_resampled, x_original, data)\n",
    "    return (target_rate, resampled.astype(np.float32))\n",
    "\n",
    "# -> (sample_rate, data)\n",
    "def extract2FloatArr(lp_wave, str_filename):\n",
    "    (bps, channels) = bitrate_channels(lp_wave)\n",
    "    \n",
    "    if bps in [1,2,4]:\n",
    "        (rate, data) = wf.read(str_filename)\n",
    "        divisor_dict = {1:255, 2:32768}\n",
    "        if bps in [1,2]:\n",
    "            divisor = divisor_dict[bps]\n",
    "            data = np.divide(data, float(divisor)) #clamp to [0.0,1.0]        \n",
    "        return (rate, data)\n",
    "    \n",
    "    elif bps == 3: \n",
    "        #24bpp wave\n",
    "        return read24bitwave(lp_wave)\n",
    "    \n",
    "    else:\n",
    "        raise Exception('Unrecognized wave format: {} bytes per sample'.format(bps))\n",
    "        \n",
    "#Note: This function truncates the 24 bit samples to 16 bits of precision\n",
    "#Reads a wave object returned by the wave.read() method\n",
    "#Returns the sample rate, as well as the audio in the form of a 32 bit float numpy array\n",
    "#(sample_rate:float, audio_data: float[])\n",
    "def read24bitwave(lp_wave):\n",
    "    nFrames = lp_wave.getnframes()\n",
    "    buf = lp_wave.readframes(nFrames)\n",
    "    reshaped = np.frombuffer(buf, np.int8).reshape(nFrames,-1)\n",
    "    short_output = np.empty((nFrames, 2), dtype = np.int8)\n",
    "    short_output[:,:] = reshaped[:, -2:]\n",
    "    short_output = short_output.view(np.int16)\n",
    "    return (lp_wave.getframerate(), np.divide(short_output, 32768).reshape(-1))  #return numpy array to save memory via array slicing\n",
    "\n",
    "def bitrate_channels(lp_wave):\n",
    "    bps = (lp_wave.getsampwidth() / lp_wave.getnchannels()) #bytes per sample\n",
    "    return (bps, lp_wave.getnchannels())\n",
    "\n",
    "def slice_data(start, end, raw_data,  sample_rate):\n",
    "    max_ind = len(raw_data) \n",
    "    start_ind = min(int(start * sample_rate), max_ind)\n",
    "    end_ind = min(int(end * sample_rate), max_ind)\n",
    "    return raw_data[start_ind: end_ind]"
   ]
  },
  {
   "cell_type": "markdown",
   "metadata": {
    "_uuid": "d075d96d6f2dd83f26f17568ad355d815f8003ba"
   },
   "source": [
    "# Distribution of respiratory cycle lengths"
   ]
  },
  {
   "cell_type": "code",
   "execution_count": 23,
   "metadata": {
    "_uuid": "bc1f720697a0bff33f021b4ed1d1c9694200caff"
   },
   "outputs": [
    {
     "name": "stdout",
     "output_type": "stream",
     "text": [
      "longest cycle:16.163\n",
      "shortest cycle:0.20000000000000284\n",
      "Fraction of samples less than 5 seconds:0.9660771238040011\n"
     ]
    },
    {
     "data": {
      "image/png": "[encoded data removed]",
      "text/plain": [
       "<Figure size 432x288 with 1 Axes>"
      ]
     },
     "metadata": {
      "needs_background": "light"
     },
     "output_type": "display_data"
    }
   ],
   "source": [
    "duration_list = []\n",
    "for i in range(len(rec_annotations)):\n",
    "    current = rec_annotations[i]\n",
    "    duration = current['End'] - current['Start']\n",
    "    duration_list.extend(duration)\n",
    "\n",
    "duration_list = np.array(duration_list)\n",
    "plt.hist(duration_list, bins = 50)\n",
    "print('longest cycle:{}'.format(max(duration_list)))\n",
    "print('shortest cycle:{}'.format(min(duration_list)))\n",
    "threshold = 5\n",
    "print('Fraction of samples less than {} seconds:{}'.format(threshold,\n",
    "                                                           np.sum(duration_list < threshold)/len(duration_list)))"
   ]
  },
  {
   "cell_type": "markdown",
   "metadata": {
    "_uuid": "7a44dbd5d5906f0e75a3fcb0dc520f5615600ece"
   },
   "source": [
    "# Mel spectrogram implementation (With VTLP)"
   ]
  },
  {
   "cell_type": "code",
   "execution_count": 24,
   "metadata": {
    "_uuid": "39cb6a31ccb2c4d9388dfa1f23a5973c65a9d5b4"
   },
   "outputs": [],
   "source": [
    "import scipy.signal\n",
    "\n",
    "#vtlp_params = (alpha, f_high) \n",
    "def sample2MelSpectrum(cycle_info, sample_rate, n_filters, vtlp_params):\n",
    "    n_rows = 175 # 7500 cutoff\n",
    "    n_window = 512 #~25 ms window\n",
    "    (f, t, Sxx) = scipy.signal.spectrogram(cycle_info[0],fs = sample_rate, nfft= n_window, nperseg=n_window)\n",
    "    Sxx = Sxx[:n_rows,:].astype(np.float32) #sift out coefficients above 7500hz, Sxx has 196 columns\n",
    "    mel_log = FFT2MelSpectrogram(f[:n_rows], Sxx, sample_rate, n_filters, vtlp_params)[1]\n",
    "    mel_min = np.min(mel_log)\n",
    "    mel_max = np.max(mel_log)\n",
    "    diff = mel_max - mel_min\n",
    "    norm_mel_log = (mel_log - mel_min) / diff if (diff > 0) else np.zeros(shape = (n_filters,Sxx.shape[1]))\n",
    "    if (diff == 0):\n",
    "        print('Error: sample data is completely empty')\n",
    "    labels = [cycle_info[1], cycle_info[2]] #crackles, wheezes flags\n",
    "    return (np.reshape(norm_mel_log, (n_filters,Sxx.shape[1],1)).astype(np.float32), # 196x64x1 matrix\n",
    "            label2onehot(labels)) \n",
    "        \n",
    "def Freq2Mel(freq):\n",
    "    return 1125 * np.log(1 + freq / 700)\n",
    "\n",
    "def Mel2Freq(mel):\n",
    "    exponents = mel / 1125\n",
    "    return 700 * (np.exp(exponents) - 1)\n",
    "\n",
    "#Tased on Jaitly & Hinton(2013)\n",
    "#Takes an array of the original mel spaced frequencies and returns a warped version of them\n",
    "def VTLP_shift(mel_freq, alpha, f_high, sample_rate):\n",
    "    nyquist_f = sample_rate / 2\n",
    "    warp_factor = min(alpha, 1)\n",
    "    threshold_freq = f_high * warp_factor / alpha\n",
    "    lower = mel_freq * alpha\n",
    "    higher = nyquist_f - (nyquist_f - mel_freq) * ((nyquist_f - f_high * warp_factor) / (nyquist_f - f_high * (warp_factor / alpha)))\n",
    "    \n",
    "    warped_mel = np.where(mel_freq <= threshold_freq, lower, higher)\n",
    "    return warped_mel.astype(np.float32)\n",
    "\n",
    "#mel_space_freq: the mel frequencies (HZ) of the filter banks, in addition to the two maximum and minimum frequency values\n",
    "#fft_bin_frequencies: the bin freqencies of the FFT output\n",
    "#Generates a 2d numpy array, with each row containing each filter bank\n",
    "def GenerateMelFilterBanks(mel_space_freq, fft_bin_frequencies):\n",
    "    n_filters = len(mel_space_freq) - 2\n",
    "    coeff = []\n",
    "    #Triangular filter windows\n",
    "    #ripped from http://practicalcryptography.com/miscellaneous/machine-learning/guide-mel-frequency-cepstral-coefficients-mfccs/\n",
    "    for mel_index in range(n_filters):\n",
    "        m = int(mel_index + 1)\n",
    "        filter_bank = []\n",
    "        for f in fft_bin_frequencies:\n",
    "            if(f < mel_space_freq[m-1]):\n",
    "                hm = 0\n",
    "            elif(f < mel_space_freq[m]):\n",
    "                hm = (f - mel_space_freq[m-1]) / (mel_space_freq[m] - mel_space_freq[m-1])\n",
    "            elif(f < mel_space_freq[m + 1]):\n",
    "                hm = (mel_space_freq[m+1] - f) / (mel_space_freq[m + 1] - mel_space_freq[m])\n",
    "            else:\n",
    "                hm = 0\n",
    "            filter_bank.append(hm)\n",
    "        coeff.append(filter_bank)\n",
    "    return np.array(coeff, dtype = np.float32)\n",
    "        \n",
    "#Transform spectrogram into mel spectrogram -> (frequencies, spectrum)\n",
    "#vtlp_params = (alpha, f_high), vtlp will not be applied if set to None\n",
    "def FFT2MelSpectrogram(f, Sxx, sample_rate, n_filterbanks, vtlp_params = None):\n",
    "    (max_mel, min_mel)  = (Freq2Mel(max(f)), Freq2Mel(min(f)))\n",
    "    mel_bins = np.linspace(min_mel, max_mel, num = (n_filterbanks + 2))\n",
    "    #Convert mel_bins to corresponding frequencies in hz\n",
    "    mel_freq = Mel2Freq(mel_bins)\n",
    "    \n",
    "    if(vtlp_params is None):\n",
    "        filter_banks = GenerateMelFilterBanks(mel_freq, f)\n",
    "    else:\n",
    "        #Apply VTLP\n",
    "        (alpha, f_high) = vtlp_params\n",
    "        warped_mel = VTLP_shift(mel_freq, alpha, f_high, sample_rate)\n",
    "        filter_banks = GenerateMelFilterBanks(warped_mel, f)\n",
    "        \n",
    "    mel_spectrum = np.matmul(filter_banks, Sxx)\n",
    "    return (mel_freq[1:-1], np.log10(mel_spectrum  + float(10e-12)))\n",
    "    \n",
    "#labels proved too difficult to train (model keep convergining to statistical mean)\n",
    "#Flattened to onehot labels since the number of combinations is very low\n",
    "def label2onehot(c_w_flags):\n",
    "    c = c_w_flags[0]\n",
    "    w = c_w_flags[1]\n",
    "    if((c == False) & (w == False)):\n",
    "        return [1,0,0,0]\n",
    "    elif((c == True) & (w == False)):\n",
    "        return [0,1,0,0]\n",
    "    elif((c == False) & (w == True)):\n",
    "        return [0,0,1,0]\n",
    "    else:\n",
    "        return [0,0,0,1]"
   ]
  },
  {
   "cell_type": "markdown",
   "metadata": {
    "_uuid": "d4a75526cc7d116004ba0e18f1a0be153f5e91e6"
   },
   "source": [
    "# Data preparation utility functions"
   ]
  },
  {
   "cell_type": "code",
   "execution_count": 25,
   "metadata": {
    "_uuid": "0019f4252e39cebcdb53e5a5f3ca98b2d1262e42"
   },
   "outputs": [],
   "source": [
    "#Used to split each individual sound file into separate sound clips containing one respiratory cycle each\n",
    "#output: [filename, (sample_data:np.array, start:float, end:float, crackles:bool(float), wheezes:bool(float)) (...) ]\n",
    "def get_sound_samples(recording_annotations, file_name, root, sample_rate):\n",
    "    sample_data = [file_name]\n",
    "    (rate, data) = read_wav_file(os.path.join(root, file_name + '.wav'), sample_rate)\n",
    "    \n",
    "    for i in range(len(recording_annotations.index)):\n",
    "        row = recording_annotations.loc[i]\n",
    "        start = row['Start']\n",
    "        end = row['End']\n",
    "        crackles = row['Crackles']\n",
    "        wheezes = row['Wheezes']\n",
    "        audio_chunk = slice_data(start, end, data, rate)\n",
    "        sample_data.append((audio_chunk, start,end,crackles,wheezes))\n",
    "    return sample_data\n",
    "\n",
    "#Fits each respiratory cycle into a fixed length audio clip, splits may be performed and zero padding is added if necessary\n",
    "#original:(arr,c,w) -> output:[(arr,c,w),(arr,c,w)]\n",
    "def split_and_pad(original, desiredLength, sampleRate):\n",
    "    output_buffer_length = int(desiredLength * sampleRate)\n",
    "    soundclip = original[0]\n",
    "    n_samples = len(soundclip)\n",
    "    total_length = n_samples / sampleRate #length of cycle in seconds\n",
    "    n_slices = int(math.ceil(total_length / desiredLength)) #get the minimum number of slices needed\n",
    "    samples_per_slice = n_samples // n_slices\n",
    "    src_start = 0 #Staring index of the samples to copy from the original buffer\n",
    "    output = [] #Holds the resultant slices\n",
    "    for i in range(n_slices):\n",
    "        src_end = min(src_start + samples_per_slice, n_samples)\n",
    "        length = src_end - src_start\n",
    "        copy = generate_padded_samples(soundclip[src_start:src_end], output_buffer_length)\n",
    "        output.append((copy, original[1], original[2]))\n",
    "        src_start += length\n",
    "    return output\n",
    "\n",
    "def generate_padded_samples(source, output_length):\n",
    "    copy = np.zeros(output_length, dtype = np.float32)\n",
    "    src_length = len(source)\n",
    "    frac = src_length / output_length\n",
    "    if(frac < 0.5):\n",
    "        #tile forward sounds to fill empty space\n",
    "        cursor = 0\n",
    "        while(cursor + src_length) < output_length:\n",
    "            copy[cursor:(cursor + src_length)] = source[:]\n",
    "            cursor += src_length\n",
    "    else:\n",
    "        copy[:src_length] = source[:]\n",
    "    #\n",
    "    return copy"
   ]
  },
  {
   "cell_type": "markdown",
   "metadata": {
    "_uuid": "24efa87087b3144117d988eb9efa40610fa1e602"
   },
   "source": [
    " # Data augmentation\n",
    " Two basic forms employed : audio stretching (speeding up or down)  as well as Vocal Tract Length perturbation"
   ]
  },
  {
   "cell_type": "code",
   "execution_count": 26,
   "metadata": {
    "_uuid": "ddf33192a05fbcff53418e9a1bbf189a0f8931ff"
   },
   "outputs": [],
   "source": [
    "#Creates a copy of each time slice, but stretches or contracts it by a random amount\n",
    "def gen_time_stretch(original, sample_rate, max_percent_change):\n",
    "    stretch_amount = 1 + np.random.uniform(-1,1) * (max_percent_change / 100)\n",
    "    (_, stretched) = resample(sample_rate, original, int(sample_rate * stretch_amount)) \n",
    "    return stretched\n",
    "\n",
    "#Same as above, but applies it to a list of samples\n",
    "def augment_list(audio_with_labels, sample_rate, percent_change, n_repeats):\n",
    "    augmented_samples = []\n",
    "    for i in range(n_repeats):\n",
    "        addition = [(gen_time_stretch(t[0], sample_rate, percent_change), t[1], t[2] ) for t in audio_with_labels]\n",
    "        augmented_samples.extend(addition)\n",
    "    return augmented_samples\n",
    "\n",
    "#Takes a list of respiratory cycles, and splits and pads each cycle into fixed length buffers (determined by desiredLength(seconds))\n",
    "#Then takes the split and padded sample and transforms it into a mel spectrogram\n",
    "#VTLP_alpha_range = [Lower, Upper] (Bounds of random selection range), \n",
    "#VTLP_high_freq_range = [Lower, Upper] (-)\n",
    "#output:[(arr:float[],c:float_bool,w:float_bool),(arr,c,w)]\n",
    "def split_and_pad_and_apply_mel_spect(original, desiredLength, sampleRate, VTLP_alpha_range = None, VTLP_high_freq_range = None, n_repeats = 1):\n",
    "    output = []\n",
    "    for i in range(n_repeats):\n",
    "        for d in original:\n",
    "            lst_result = split_and_pad(d, desiredLength, sampleRate) #Time domain\n",
    "            if( (VTLP_alpha_range is None) | (VTLP_high_freq_range is None) ):\n",
    "                #Do not apply VTLP\n",
    "                VTLP_params = None\n",
    "            else:\n",
    "                #Randomly generate VLTP parameters\n",
    "                alpha = np.random.uniform(VTLP_alpha_range[0], VTLP_alpha_range[1])\n",
    "                high_freq = np.random.uniform(VTLP_high_freq_range[0], VTLP_high_freq_range[1])\n",
    "                VTLP_params = (alpha, high_freq)\n",
    "            freq_result = [sample2MelSpectrum(d, sampleRate, 50, VTLP_params) for d in lst_result] #Freq domain\n",
    "            output.extend(freq_result)\n",
    "    return output"
   ]
  },
  {
   "cell_type": "code",
   "execution_count": 27,
   "metadata": {
    "_uuid": "f0c71f1dfc7b6a4cd1df05c116b47295687e4b33"
   },
   "outputs": [
    {
     "name": "stdout",
     "output_type": "stream",
     "text": [
      "163\n"
     ]
    },
    {
     "data": {
      "text/plain": [
       "Text(0.5, 1.0, 'With VTLP')"
      ]
     },
     "execution_count": 27,
     "metadata": {},
     "output_type": "execute_result"
    },
    {
     "data": {
      "image/png": "[encoded data removed]",
      "text/plain": [
       "<Figure size 1440x720 with 2 Axes>"
      ]
     },
     "metadata": {
      "needs_background": "light"
     },
     "output_type": "display_data"
    }
   ],
   "source": [
    "str_file = filenames[11]\n",
    "lp_test = get_sound_samples(rec_annotations_dict[str_file], str_file, root, 22000)\n",
    "lp_cycles = [(d[0], d[3], d[4]) for d in lp_test[1:]]\n",
    "soundclip = lp_cycles[1][0]\n",
    "\n",
    "n_window = 512\n",
    "sample_rate = 22000\n",
    "(f, t, Sxx) = scipy.signal.spectrogram(soundclip, fs = 22000, nfft= n_window, nperseg=n_window)\n",
    "print(sum(f < 7000))\n",
    "\n",
    "plt.figure(figsize = (20,10))\n",
    "plt.subplot(1,2,1)\n",
    "mel_banks = FFT2MelSpectrogram(f[:175], Sxx[:175,:], sample_rate, 50)[1]\n",
    "plt.imshow(mel_banks, aspect = 1)\n",
    "plt.title('No VTLP')\n",
    "\n",
    "plt.subplot(1,2,2)\n",
    "mel_banks = FFT2MelSpectrogram(f[:175], Sxx[:175,:], sample_rate, 50, vtlp_params = (0.9,3500))[1]\n",
    "plt.imshow(mel_banks, aspect = 1)\n",
    "plt.title('With VTLP')"
   ]
  },
  {
   "cell_type": "markdown",
   "metadata": {
    "_uuid": "eee12319864b3551bfa459cf4e3ac034ffbd9463"
   },
   "source": [
    "# Utility used to import all training samples"
   ]
  },
  {
   "cell_type": "code",
   "execution_count": 28,
   "metadata": {
    "_uuid": "b373daadbf268f81e5d0bed77090166f7033f0b5"
   },
   "outputs": [],
   "source": [
    "from sklearn.model_selection import train_test_split\n",
    "\n",
    "def extract_all_training_samples(filenames, annotation_dict, root, target_rate, desired_length, train_test_ratio = 0.2):\n",
    "    cycle_list = []\n",
    "    for file in filenames:\n",
    "        data = get_sound_samples(annotation_dict[file], file, root, target_rate)\n",
    "        cycles_with_labels = [(d[0], d[3], d[4]) for d in data[1:]]\n",
    "        cycle_list.extend(cycles_with_labels)\n",
    "    \n",
    "    #Sort into respective classes\n",
    "    no_labels = [c for c in cycle_list if ((c[1] == 0) & (c[2] == 0))]\n",
    "    c_only = [c for c in cycle_list if ((c[1] == 1) & (c[2] == 0))] \n",
    "    w_only = [c for c in cycle_list if ((c[1] == 0) & (c[2] == 1))]\n",
    "    c_w = [c for c in cycle_list if ((c[1] == 1) & (c[2] == 1))]\n",
    "    \n",
    "    #Count of labels across all cycles, actual recording time also follows similar ratios\n",
    "    #none:3642\n",
    "    #crackles:1864 \n",
    "    #wheezes:886\n",
    "    #both:506\n",
    "    none_train, none_test = train_test_split(no_labels, test_size = train_test_ratio)\n",
    "    c_train, c_test  = train_test_split(c_only, test_size = train_test_ratio)\n",
    "    w_train, w_test  = train_test_split(w_only, test_size = train_test_ratio)\n",
    "    c_w_train, c_w_test  = train_test_split(c_w, test_size = train_test_ratio)\n",
    "    \n",
    "    #Training section (Data augmentation procedures)\n",
    "    #Augment w_only and c_w groups to match the size of c_only\n",
    "    #no_labels will be artifically reduced in the pipeline  later\n",
    "    w_stretch = w_train + augment_list(w_train, target_rate, 10 , 1) #\n",
    "    c_w_stretch = c_w_train + augment_list(c_w_train , target_rate, 10 , 1) \n",
    "    \n",
    "    #Split up cycles into sound clips with fixed lengths so they can be fed into a CNN\n",
    "    vtlp_alpha = [0.9,1.1]\n",
    "    vtlp_upper_freq = [3200,3800]\n",
    "    \n",
    "    train_none  = (split_and_pad_and_apply_mel_spect(none_train, desired_length, target_rate) +\n",
    "                   split_and_pad_and_apply_mel_spect(none_train, desired_length, target_rate, vtlp_alpha))\n",
    "    \n",
    "    train_c = (split_and_pad_and_apply_mel_spect(c_train, desired_length, target_rate) + \n",
    "               split_and_pad_and_apply_mel_spect(c_train, desired_length, target_rate, vtlp_alpha, vtlp_upper_freq, n_repeats = 3) ) #original samples + VTLP\n",
    "    \n",
    "    train_w = (split_and_pad_and_apply_mel_spect(w_stretch, desired_length, target_rate) + \n",
    "               split_and_pad_and_apply_mel_spect(w_stretch , desired_length, target_rate, vtlp_alpha , vtlp_upper_freq, n_repeats = 4)) #(original samples + time stretch) + VTLP\n",
    "    \n",
    "    train_c_w = (split_and_pad_and_apply_mel_spect(c_w_stretch, desired_length, target_rate) + \n",
    "                 split_and_pad_and_apply_mel_spect(c_w_stretch, desired_length, target_rate, vtlp_alpha , vtlp_upper_freq, n_repeats = 7)) #(original samples + time stretch * 2) + VTLP\n",
    "    \n",
    "    train_dict = {'none':train_none,'crackles':train_c,'wheezes':train_w, 'both':train_c_w}\n",
    "    \n",
    "    #test section \n",
    "    test_none  = split_and_pad_and_apply_mel_spect(none_test, desired_length, target_rate)\n",
    "    test_c = split_and_pad_and_apply_mel_spect(c_test, desired_length, target_rate)\n",
    "    test_w = split_and_pad_and_apply_mel_spect(w_test, desired_length, target_rate)\n",
    "    test_c_w = split_and_pad_and_apply_mel_spect(c_w_test, desired_length, target_rate)\n",
    "    \n",
    "    test_dict = {'none':test_none,'crackles':test_c,'wheezes':test_w, 'both':test_c_w}\n",
    "    \n",
    "    return [train_dict, test_dict]\n",
    "    "
   ]
  },
  {
   "cell_type": "code",
   "execution_count": 29,
   "metadata": {
    "_uuid": "c49ed33718a224a03c414841706efd662cbe1985"
   },
   "outputs": [],
   "source": [
    "target_sample_rate = 22000 \n",
    "sample_length_seconds = 5\n",
    "sample_dict = extract_all_training_samples(filenames, rec_annotations_dict, root, target_sample_rate, sample_length_seconds) #sample rate lowered to meet memory constraints\n",
    "training_clips = sample_dict[0]\n",
    "test_clips = sample_dict[1]"
   ]
  },
  {
   "cell_type": "code",
   "execution_count": 52,
   "metadata": {},
   "outputs": [
    {
     "data": {
      "text/plain": [
       "(50, 245, 1)"
      ]
     },
     "execution_count": 52,
     "metadata": {},
     "output_type": "execute_result"
    }
   ],
   "source": [
    "test_clips['none'][0][0].shape"
   ]
  },
  {
   "cell_type": "code",
   "execution_count": 30,
   "metadata": {
    "_uuid": "60cd8372f5e529d04abba33fed4f8559db2b8a35"
   },
   "outputs": [
    {
     "name": "stdout",
     "output_type": "stream",
     "text": [
      "Samples Available\n",
      "[Training set]\n",
      "none:6092\n",
      "crackles:6028\n",
      "wheezes:7290\n",
      "both:6752\n",
      "\n",
      "[Test set]\n",
      "none:757\n",
      "crackles:381\n",
      "wheezes:182\n",
      "both:111\n"
     ]
    }
   ],
   "source": [
    "def print_sample_count(src_dict):\n",
    "    print('none:{}\\ncrackles:{}\\nwheezes:{}\\nboth:{}'.format(len(src_dict['none']),\n",
    "                                                        len(src_dict['crackles']),\n",
    "                                                        len(src_dict['wheezes']),\n",
    "                                                        len(src_dict['both'])))\n",
    "\n",
    "print('Samples Available')\n",
    "print('[Training set]')\n",
    "print_sample_count(training_clips)\n",
    "print('')\n",
    "print('[Test set]')\n",
    "print_sample_count(test_clips)"
   ]
  },
  {
   "cell_type": "code",
   "execution_count": null,
   "metadata": {},
   "outputs": [],
   "source": []
  },
  {
   "cell_type": "code",
   "execution_count": 49,
   "metadata": {
    "_uuid": "547638c6b0e43da791fa0c73cea6bea1629c51b5"
   },
   "outputs": [
    {
     "data": {
      "image/png": "[encoded data removed]",
      "text/plain": [
       "<Figure size 720x720 with 4 Axes>"
      ]
     },
     "metadata": {
      "needs_background": "light"
     },
     "output_type": "display_data"
    }
   ],
   "source": [
    "#Example of tiled sound samples\n",
    "sample_height = training_clips['none'][200][0].shape[0]\n",
    "sample_width = training_clips['none'][200][0].shape[1]\n",
    "ind = 1\n",
    "plt.figure(figsize = (10,10))\n",
    "plt.subplot(4,1,1)\n",
    "plt.imshow(training_clips['none'][ind][0].reshape(sample_height, sample_width))\n",
    "plt.title('None')\n",
    "plt.subplot(4,1,2)\n",
    "plt.imshow(training_clips['crackles'][ind][0].reshape(sample_height, sample_width))\n",
    "plt.title('Crackles')\n",
    "plt.subplot(4,1,3)\n",
    "plt.imshow(training_clips['wheezes'][ind][0].reshape(sample_height, sample_width))\n",
    "plt.title('Wheezes')\n",
    "plt.subplot(4,1,4)\n",
    "plt.imshow(training_clips['both'][ind][0].reshape(sample_height, sample_width))\n",
    "plt.title('Both')\n",
    "plt.tight_layout()"
   ]
  },
  {
   "cell_type": "code",
   "execution_count": 44,
   "metadata": {},
   "outputs": [
    {
     "data": {
      "text/plain": [
       "50"
      ]
     },
     "execution_count": 44,
     "metadata": {},
     "output_type": "execute_result"
    }
   ],
   "source": [
    "sample_height"
   ]
  },
  {
   "cell_type": "code",
   "execution_count": 45,
   "metadata": {},
   "outputs": [
    {
     "data": {
      "text/plain": [
       "245"
      ]
     },
     "execution_count": 45,
     "metadata": {},
     "output_type": "execute_result"
    }
   ],
   "source": [
    "sample_width"
   ]
  },
  {
   "cell_type": "markdown",
   "metadata": {
    "_uuid": "ada1ead97b26f8eb051594f67d7dbe04096f4a7c"
   },
   "source": [
    "# Data Pipeline"
   ]
  },
  {
   "cell_type": "code",
   "execution_count": 53,
   "metadata": {
    "_uuid": "79d3651b4b6c73d3cc7a33e6a434227529b1d171"
   },
   "outputs": [],
   "source": [
    "import scipy.signal\n",
    "\n",
    "#Interleaved sampling between classes\n",
    "#Used to ensure a balance of classes for the training set\n",
    "class data_generator():\n",
    "    #sound_clips = [[none],[crackles],[wheezes],[both]]\n",
    "    #strides: How far the sampling index for each category is advanced for each step\n",
    "    def __init__(self, sound_clips, strides):\n",
    "        self.clips = sound_clips\n",
    "        self.strides = strides\n",
    "        self.lengths = [len(arr) for arr in sound_clips]\n",
    "    \n",
    "    def n_available_samples(self):\n",
    "        return int(min(np.divide(self.lengths, self.strides))) * 4\n",
    "    \n",
    "    def generate_keras(self, batch_size):\n",
    "        cursor = [0,0,0,0]\n",
    "        while True:\n",
    "            i = 0\n",
    "            X,y = [],[]\n",
    "            for c in range(batch_size):\n",
    "                cat_length = self.lengths[i]\n",
    "                cat_clips = self.clips[i]\n",
    "                cat_stride = self.strides[i]\n",
    "                cat_advance = np.random.randint(low= 1,high = cat_stride + 1)\n",
    "                clip = cat_clips[(cursor[i] + cat_advance) % cat_length]\n",
    "                cursor[i] = (cursor[i] + self.strides[i]) % cat_length #advance cursor\n",
    "                s = (self.rollFFT(clip))\n",
    "                X.append(s[0])\n",
    "                y.append(s[1])\n",
    "                i = (i + 1) % 4 # go to next class\n",
    "            yield (np.reshape(X, (batch_size, sample_height, sample_width, 1)),\n",
    "                   np.reshape(y,(batch_size,4)))\n",
    "\n",
    "    #Transpose and wrap each array along the time axis\n",
    "    def rollFFT(self, fft_info):\n",
    "        fft = fft_info[0]\n",
    "        n_col = fft.shape[1]\n",
    "        pivot = np.random.randint(n_col)\n",
    "        return ((np.roll(fft, pivot, axis = 1)), fft_info[1])\n",
    "\n",
    "#Used for validation set\n",
    "class feed_all():\n",
    "    #sound_clips = [[none],[crackles],[wheezes],[both]]\n",
    "    #strides: How far the sampling index for each category is advanced for each step\n",
    "    def __init__(self, sound_clips, roll = True):\n",
    "        merged = []\n",
    "        for arr in sound_clips:\n",
    "            merged.extend(arr)\n",
    "        np.random.shuffle(merged)\n",
    "        self.clips = merged\n",
    "        self.nclips = len(merged)\n",
    "        self.roll = roll\n",
    "    \n",
    "    def n_available_samples(self):\n",
    "        return len(self.clips)\n",
    "    \n",
    "    def generate_keras(self, batch_size):\n",
    "        i = 0\n",
    "        while True:\n",
    "            X,y = [],[]\n",
    "            for b in range(batch_size):\n",
    "                clip = self.clips[i]\n",
    "                i = (i + 1) % self.nclips\n",
    "                if(self.roll):\n",
    "                    s = (self.rollFFT(clip))\n",
    "                    X.append(s[0])\n",
    "                    y.append(s[1])\n",
    "                else:\n",
    "                    X.append(clip[0])\n",
    "                    y.append(clip[1])\n",
    "                    \n",
    "            yield (np.reshape(X, (batch_size,sample_height, sample_width,1)),\n",
    "                   np.reshape(y,(batch_size, 4)))\n",
    "\n",
    "    #Transpose and wrap each array along the time axis\n",
    "    def rollFFT(self, fft_info):\n",
    "        fft = fft_info[0]\n",
    "        n_col = fft.shape[1]\n",
    "        pivot = np.random.randint(n_col)\n",
    "        return ((np.roll(fft, pivot, axis = 1)), fft_info[1])"
   ]
  },
  {
   "cell_type": "code",
   "execution_count": 54,
   "metadata": {
    "_uuid": "e09789c053f36f4b3863f2471b308b33608ea8eb"
   },
   "outputs": [],
   "source": [
    "[none_train, c_train, w_train, c_w_train] = [training_clips['none'], training_clips['crackles'], training_clips['wheezes'], training_clips['both']]\n",
    "[none_test, c_test, w_test,c_w_test] =  [test_clips['none'], test_clips['crackles'], test_clips['wheezes'], test_clips['both']]\n",
    "\n",
    "np.random.shuffle(none_train)\n",
    "np.random.shuffle(c_train)\n",
    "np.random.shuffle(w_train)\n",
    "np.random.shuffle(c_w_train)\n",
    "\n",
    "#Data pipeline objects\n",
    "train_gen = data_generator([none_train, c_train, w_train, c_w_train], [1,1,1,1])\n",
    "test_gen = feed_all([none_test, c_test, w_test,c_w_test])"
   ]
  },
  {
   "cell_type": "markdown",
   "metadata": {
    "_uuid": "de804e4de514356b3428d5bd817d9e44478daa57"
   },
   "source": [
    "# CNN implementation"
   ]
  },
  {
   "cell_type": "code",
   "execution_count": 116,
   "metadata": {
    "_uuid": "405dedb74c832336bc72c0c17682f575e99ec904"
   },
   "outputs": [],
   "source": [
    "batch_size = 256\n",
    "n_epochs = 15"
   ]
  },
  {
   "cell_type": "code",
   "execution_count": 121,
   "metadata": {
    "_uuid": "21a2aa15b0ea5798ae2b796786ee583b8d60548e"
   },
   "outputs": [],
   "source": [
    "#Keras implementation\n",
    "from keras import Sequential\n",
    "from keras import optimizers\n",
    "from keras import backend as K\n",
    "from keras.layers import Conv2D, Dense, Activation, Dropout, MaxPool2D, Flatten, LeakyReLU\n",
    "import tensorflow as tf\n",
    "K.clear_session()\n",
    "\n",
    "model = Sequential()\n",
    "model.add(Conv2D(128, [7,11], strides = [2,2], padding = 'SAME', \n",
    "                 use_bias =False, input_shape = (sample_height, sample_width, 1)))\n",
    "model.add(LeakyReLU(alpha = 0.1))\n",
    "model.add(MaxPool2D(padding = 'SAME'))\n",
    "\n",
    "model.add(Conv2D(256, [5,5], padding = 'SAME', use_bias =False))\n",
    "model.add(LeakyReLU(alpha = 0.1))\n",
    "model.add(MaxPool2D(padding = 'SAME'))\n",
    "\n",
    "model.add(Conv2D(256, [1,1], padding = 'SAME', use_bias =False))\n",
    "model.add(Conv2D(256, [3,3], padding = 'SAME', use_bias =False))\n",
    "model.add(LeakyReLU(alpha = 0.1))\n",
    "model.add(MaxPool2D(padding = 'SAME'))\n",
    "\n",
    "model.add(Conv2D(512, [1,1], padding = 'SAME', use_bias =False))\n",
    "model.add(Conv2D(512, [3,3], padding = 'SAME',activation = 'relu', use_bias =False))\n",
    "model.add(Conv2D(512, [1,1], padding = 'SAME', use_bias =False))\n",
    "model.add(Conv2D(512, [3,3], padding = 'SAME', activation = 'relu', use_bias =False))\n",
    "model.add(MaxPool2D(padding = 'SAME'))\n",
    "model.add(Flatten())\n",
    "\n",
    "model.add(Dense(4096, activation = 'relu',use_bias =False))\n",
    "model.add(Dropout(0.5))\n",
    "\n",
    "model.add(Dense(512, activation = 'relu',use_bias =False))\n",
    "model.add(Dense(4, activation = 'softmax',use_bias =False))\n",
    "\n",
    "#optimizer = optimizers.Adam(lr=0.0001, beta_1=0.9, beta_2=0.999, epsilon=None, decay=0.00, amsgrad=False)\n",
    "optimizer = optimizers.Adam(lr=0.0001, beta_1=0.9, beta_2=0.999, amsgrad=False)\n",
    "#optimizer = optimizers.Adam(lr=0.0001)\n",
    "\n",
    "model.compile(optimizer = optimizer, loss = 'categorical_crossentropy', metrics = ['acc'])"
   ]
  },
  {
   "cell_type": "code",
   "execution_count": 122,
   "metadata": {},
   "outputs": [
    {
     "name": "stdout",
     "output_type": "stream",
     "text": [
      "Model: \"sequential_1\"\n",
      "_________________________________________________________________\n",
      "Layer (type)                 Output Shape              Param #   \n",
      "=================================================================\n",
      "conv2d_1 (Conv2D)            (None, 25, 123, 128)      9984      \n",
      "_________________________________________________________________\n",
      "leaky_re_lu_1 (LeakyReLU)    (None, 25, 123, 128)      0         \n",
      "_________________________________________________________________\n",
      "max_pooling2d_1 (MaxPooling2 (None, 13, 62, 128)       0         \n",
      "_________________________________________________________________\n",
      "conv2d_2 (Conv2D)            (None, 13, 62, 256)       819456    \n",
      "_________________________________________________________________\n",
      "leaky_re_lu_2 (LeakyReLU)    (None, 13, 62, 256)       0         \n",
      "_________________________________________________________________\n",
      "max_pooling2d_2 (MaxPooling2 (None, 7, 31, 256)        0         \n",
      "_________________________________________________________________\n",
      "conv2d_3 (Conv2D)            (None, 7, 31, 256)        65792     \n",
      "_________________________________________________________________\n",
      "conv2d_4 (Conv2D)            (None, 7, 31, 256)        590080    \n",
      "_________________________________________________________________\n",
      "leaky_re_lu_3 (LeakyReLU)    (None, 7, 31, 256)        0         \n",
      "_________________________________________________________________\n",
      "max_pooling2d_3 (MaxPooling2 (None, 4, 16, 256)        0         \n",
      "_________________________________________________________________\n",
      "conv2d_5 (Conv2D)            (None, 4, 16, 512)        131584    \n",
      "_________________________________________________________________\n",
      "conv2d_6 (Conv2D)            (None, 4, 16, 512)        2359808   \n",
      "_________________________________________________________________\n",
      "conv2d_7 (Conv2D)            (None, 4, 16, 512)        262656    \n",
      "_________________________________________________________________\n",
      "conv2d_8 (Conv2D)            (None, 4, 16, 512)        2359808   \n",
      "_________________________________________________________________\n",
      "max_pooling2d_4 (MaxPooling2 (None, 2, 8, 512)         0         \n",
      "_________________________________________________________________\n",
      "flatten_1 (Flatten)          (None, 8192)              0         \n",
      "_________________________________________________________________\n",
      "dense_1 (Dense)              (None, 4096)              33554432  \n",
      "_________________________________________________________________\n",
      "dropout_1 (Dropout)          (None, 4096)              0         \n",
      "_________________________________________________________________\n",
      "dense_2 (Dense)              (None, 512)               2097152   \n",
      "_________________________________________________________________\n",
      "dense_3 (Dense)              (None, 4)                 2048      \n",
      "=================================================================\n",
      "Total params: 42,252,800\n",
      "Trainable params: 42,252,800\n",
      "Non-trainable params: 0\n",
      "_________________________________________________________________\n"
     ]
    }
   ],
   "source": [
    "model.summary()"
   ]
  },
  {
   "cell_type": "code",
   "execution_count": 119,
   "metadata": {
    "_uuid": "b4856cd835f68b42499eea9c368e490553393328",
    "scrolled": false
   },
   "outputs": [
    {
     "data": {
      "text/plain": [
       "\"from keras.utils.vis_utils import plot_model\\n\\nplot_model(model, show_shapes=True, show_layer_names = True)\\nfrom IPython.display import Image\\nImage(filename='model.png')\\n\""
      ]
     },
     "execution_count": 119,
     "metadata": {},
     "output_type": "execute_result"
    }
   ],
   "source": [
    "'''from keras.utils.vis_utils import plot_model\n",
    "\n",
    "plot_model(model, show_shapes=True, show_layer_names = True)\n",
    "from IPython.display import Image\n",
    "Image(filename='model.png')\n",
    "'''"
   ]
  },
  {
   "cell_type": "code",
   "execution_count": 120,
   "metadata": {
    "_uuid": "cd95c81edb02b9e90c44a628a8b0c2dcd4bf7558"
   },
   "outputs": [
    {
     "name": "stdout",
     "output_type": "stream",
     "text": [
      "Epoch 1/15\n",
      "30/94 [========>.....................] - ETA: 11:10 - loss: 1.3599 - acc: 0.3155"
     ]
    },
    {
     "ename": "KeyboardInterrupt",
     "evalue": "",
     "output_type": "error",
     "traceback": [
      "\u001b[1;31m---------------------------------------------------------------------------\u001b[0m",
      "\u001b[1;31mKeyboardInterrupt\u001b[0m                         Traceback (most recent call last)",
      "\u001b[1;32m<ipython-input-120-bd03f1211c42>\u001b[0m in \u001b[0;36m<module>\u001b[1;34m\u001b[0m\n\u001b[0;32m      3\u001b[0m                             \u001b[0mvalidation_data\u001b[0m \u001b[1;33m=\u001b[0m \u001b[0mtest_gen\u001b[0m\u001b[1;33m.\u001b[0m\u001b[0mgenerate_keras\u001b[0m\u001b[1;33m(\u001b[0m\u001b[0mbatch_size\u001b[0m\u001b[1;33m)\u001b[0m\u001b[1;33m,\u001b[0m\u001b[1;33m\u001b[0m\u001b[1;33m\u001b[0m\u001b[0m\n\u001b[0;32m      4\u001b[0m                             \u001b[0mvalidation_steps\u001b[0m \u001b[1;33m=\u001b[0m \u001b[0mtest_gen\u001b[0m\u001b[1;33m.\u001b[0m\u001b[0mn_available_samples\u001b[0m\u001b[1;33m(\u001b[0m\u001b[1;33m)\u001b[0m \u001b[1;33m//\u001b[0m \u001b[0mbatch_size\u001b[0m\u001b[1;33m,\u001b[0m\u001b[1;33m\u001b[0m\u001b[1;33m\u001b[0m\u001b[0m\n\u001b[1;32m----> 5\u001b[1;33m                             epochs = n_epochs)\n\u001b[0m",
      "\u001b[1;32m~\\AppData\\Local\\Continuum\\anaconda3\\lib\\site-packages\\keras\\legacy\\interfaces.py\u001b[0m in \u001b[0;36mwrapper\u001b[1;34m(*args, **kwargs)\u001b[0m\n\u001b[0;32m     89\u001b[0m                 warnings.warn('Update your `' + object_name +\n\u001b[0;32m     90\u001b[0m                               '` call to the Keras 2 API: ' + signature, stacklevel=2)\n\u001b[1;32m---> 91\u001b[1;33m             \u001b[1;32mreturn\u001b[0m \u001b[0mfunc\u001b[0m\u001b[1;33m(\u001b[0m\u001b[1;33m*\u001b[0m\u001b[0margs\u001b[0m\u001b[1;33m,\u001b[0m \u001b[1;33m**\u001b[0m\u001b[0mkwargs\u001b[0m\u001b[1;33m)\u001b[0m\u001b[1;33m\u001b[0m\u001b[1;33m\u001b[0m\u001b[0m\n\u001b[0m\u001b[0;32m     92\u001b[0m         \u001b[0mwrapper\u001b[0m\u001b[1;33m.\u001b[0m\u001b[0m_original_function\u001b[0m \u001b[1;33m=\u001b[0m \u001b[0mfunc\u001b[0m\u001b[1;33m\u001b[0m\u001b[1;33m\u001b[0m\u001b[0m\n\u001b[0;32m     93\u001b[0m         \u001b[1;32mreturn\u001b[0m \u001b[0mwrapper\u001b[0m\u001b[1;33m\u001b[0m\u001b[1;33m\u001b[0m\u001b[0m\n",
      "\u001b[1;32m~\\AppData\\Local\\Continuum\\anaconda3\\lib\\site-packages\\keras\\engine\\training.py\u001b[0m in \u001b[0;36mfit_generator\u001b[1;34m(self, generator, steps_per_epoch, epochs, verbose, callbacks, validation_data, validation_steps, validation_freq, class_weight, max_queue_size, workers, use_multiprocessing, shuffle, initial_epoch)\u001b[0m\n",
      "\u001b[1;32m~\\AppData\\Local\\Continuum\\anaconda3\\lib\\site-packages\\keras\\engine\\training_generator.py\u001b[0m in \u001b[0;36mfit_generator\u001b[1;34m(model, generator, steps_per_epoch, epochs, verbose, callbacks, validation_data, validation_steps, validation_freq, class_weight, max_queue_size, workers, use_multiprocessing, shuffle, initial_epoch)\u001b[0m\n\u001b[0;32m    218\u001b[0m \u001b[1;33m\u001b[0m\u001b[0m\n\u001b[0;32m    219\u001b[0m                 \u001b[0mcallbacks\u001b[0m\u001b[1;33m.\u001b[0m\u001b[0mon_batch_end\u001b[0m\u001b[1;33m(\u001b[0m\u001b[0mbatch_index\u001b[0m\u001b[1;33m,\u001b[0m \u001b[0mbatch_logs\u001b[0m\u001b[1;33m)\u001b[0m\u001b[1;33m\u001b[0m\u001b[1;33m\u001b[0m\u001b[0m\n\u001b[1;32m--> 220\u001b[1;33m \u001b[1;33m\u001b[0m\u001b[0m\n\u001b[0m\u001b[0;32m    221\u001b[0m                 \u001b[0mbatch_index\u001b[0m \u001b[1;33m+=\u001b[0m \u001b[1;36m1\u001b[0m\u001b[1;33m\u001b[0m\u001b[1;33m\u001b[0m\u001b[0m\n\u001b[0;32m    222\u001b[0m                 \u001b[0msteps_done\u001b[0m \u001b[1;33m+=\u001b[0m \u001b[1;36m1\u001b[0m\u001b[1;33m\u001b[0m\u001b[1;33m\u001b[0m\u001b[0m\n",
      "\u001b[1;32m~\\AppData\\Local\\Continuum\\anaconda3\\lib\\site-packages\\keras\\engine\\training.py\u001b[0m in \u001b[0;36mtrain_on_batch\u001b[1;34m(self, x, y, sample_weight, class_weight, reset_metrics)\u001b[0m\n\u001b[0;32m   1512\u001b[0m         \"\"\"\n\u001b[0;32m   1513\u001b[0m         return training_generator.predict_generator(\n\u001b[1;32m-> 1514\u001b[1;33m             \u001b[0mself\u001b[0m\u001b[1;33m,\u001b[0m \u001b[0mgenerator\u001b[0m\u001b[1;33m,\u001b[0m\u001b[1;33m\u001b[0m\u001b[1;33m\u001b[0m\u001b[0m\n\u001b[0m\u001b[0;32m   1515\u001b[0m             \u001b[0msteps\u001b[0m\u001b[1;33m=\u001b[0m\u001b[0msteps\u001b[0m\u001b[1;33m,\u001b[0m\u001b[1;33m\u001b[0m\u001b[1;33m\u001b[0m\u001b[0m\n\u001b[0;32m   1516\u001b[0m             \u001b[0mmax_queue_size\u001b[0m\u001b[1;33m=\u001b[0m\u001b[0mmax_queue_size\u001b[0m\u001b[1;33m,\u001b[0m\u001b[1;33m\u001b[0m\u001b[1;33m\u001b[0m\u001b[0m\n",
      "\u001b[1;32m~\\AppData\\Local\\Continuum\\anaconda3\\lib\\site-packages\\tensorflow_core\\python\\keras\\backend.py\u001b[0m in \u001b[0;36m__call__\u001b[1;34m(self, inputs)\u001b[0m\n",
      "\u001b[1;32m~\\AppData\\Local\\Continuum\\anaconda3\\lib\\site-packages\\tensorflow_core\\python\\eager\\function.py\u001b[0m in \u001b[0;36m__call__\u001b[1;34m(self, *args, **kwargs)\u001b[0m\n",
      "\u001b[1;32m~\\AppData\\Local\\Continuum\\anaconda3\\lib\\site-packages\\tensorflow_core\\python\\eager\\function.py\u001b[0m in \u001b[0;36m_call_impl\u001b[1;34m(self, args, kwargs, cancellation_manager)\u001b[0m\n",
      "\u001b[1;32m~\\AppData\\Local\\Continuum\\anaconda3\\lib\\site-packages\\tensorflow_core\\python\\eager\\function.py\u001b[0m in \u001b[0;36m_call_flat\u001b[1;34m(self, args, captured_inputs, cancellation_manager)\u001b[0m\n",
      "\u001b[1;32m~\\AppData\\Local\\Continuum\\anaconda3\\lib\\site-packages\\tensorflow_core\\python\\eager\\function.py\u001b[0m in \u001b[0;36mcall\u001b[1;34m(self, ctx, args, cancellation_manager)\u001b[0m\n",
      "\u001b[1;32m~\\AppData\\Local\\Continuum\\anaconda3\\lib\\site-packages\\tensorflow_core\\python\\eager\\execute.py\u001b[0m in \u001b[0;36mquick_execute\u001b[1;34m(op_name, num_outputs, inputs, attrs, ctx, name)\u001b[0m\n",
      "\u001b[1;31mKeyboardInterrupt\u001b[0m: "
     ]
    }
   ],
   "source": [
    "stats = model.fit_generator(generator = train_gen.generate_keras(batch_size), \n",
    "                            steps_per_epoch = train_gen.n_available_samples() // batch_size,\n",
    "                            validation_data = test_gen.generate_keras(batch_size),\n",
    "                            validation_steps = test_gen.n_available_samples() // batch_size, \n",
    "                            epochs = n_epochs)"
   ]
  },
  {
   "cell_type": "code",
   "execution_count": 27,
   "metadata": {
    "_uuid": "db9acc2ae412bafe344d83c094ffcb0e2ca42c61"
   },
   "outputs": [
    {
     "data": {
      "text/plain": [
       "Text(0.5,1,'Loss')"
      ]
     },
     "execution_count": 27,
     "metadata": {},
     "output_type": "execute_result"
    },
    {
     "data": {
      "image/png": "[encoded data removed]",
      "text/plain": [
       "<Figure size 1080x360 with 2 Axes>"
      ]
     },
     "metadata": {},
     "output_type": "display_data"
    }
   ],
   "source": [
    "plt.figure(figsize = (15,5))\n",
    "plt.subplot(1,2,1)\n",
    "plt.title('Accuracy')\n",
    "plt.plot(stats.history['acc'], label = 'training acc')\n",
    "plt.plot(stats.history['val_acc'], label = 'validation acc')\n",
    "plt.legend()\n",
    "plt.subplot(1,2,2)\n",
    "plt.plot(stats.history['loss'], label = 'training loss')\n",
    "plt.plot(stats.history['val_loss'], label = 'validation loss')\n",
    "plt.legend()\n",
    "plt.title('Loss')"
   ]
  },
  {
   "cell_type": "code",
   "execution_count": 28,
   "metadata": {
    "_uuid": "39bd3325b3569af3f3d6a89d19750c8c573af0fb"
   },
   "outputs": [],
   "source": [
    "test_set = test_gen.generate_keras(test_gen.n_available_samples()).__next__()\n",
    "predictions = model.predict(test_set[0])\n",
    "predictions = np.argmax(predictions, axis = 1)\n",
    "labels = np.argmax(test_set[1], axis = 1)"
   ]
  },
  {
   "cell_type": "code",
   "execution_count": 29,
   "metadata": {
    "_uuid": "3502b18c0ff81329872907c4277764b26689d0c3"
   },
   "outputs": [
    {
     "name": "stdout",
     "output_type": "stream",
     "text": [
      "              precision    recall  f1-score   support\n",
      "\n",
      "        none       0.84      0.79      0.81       756\n",
      "    crackles       0.65      0.76      0.70       379\n",
      "     wheezes       0.63      0.60      0.62       178\n",
      "        both       0.61      0.54      0.57       108\n",
      "\n",
      "   micro avg       0.74      0.74      0.74      1421\n",
      "   macro avg       0.68      0.67      0.67      1421\n",
      "weighted avg       0.74      0.74      0.74      1421\n",
      "\n",
      "[[597 109  40  10]\n",
      " [ 72 287   7  13]\n",
      " [ 38  19 107  14]\n",
      " [  6  29  15  58]]\n"
     ]
    }
   ],
   "source": [
    "from sklearn.metrics import classification_report, confusion_matrix\n",
    "\n",
    "print(classification_report(labels, predictions, target_names = ['none','crackles','wheezes','both']))\n",
    "print(confusion_matrix(labels, predictions))"
   ]
  },
  {
   "cell_type": "code",
   "execution_count": 30,
   "metadata": {
    "_uuid": "63b8d408b222e3599d6b74f7c26f953c1dbcc1d8"
   },
   "outputs": [],
   "source": []
  }
 ],
 "metadata": {
  "kernelspec": {
   "display_name": "Python 3",
   "language": "python",
   "name": "python3"
  },
  "language_info": {
   "codemirror_mode": {
    "name": "ipython",
    "version": 3
   },
   "file_extension": ".py",
   "mimetype": "text/x-python",
   "name": "python",
   "nbconvert_exporter": "python",
   "pygments_lexer": "ipython3",
   "version": "3.7.4"
  }
 },
 "nbformat": 4,
 "nbformat_minor": 1
}
